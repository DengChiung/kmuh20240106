{
  "nbformat": 4,
  "nbformat_minor": 0,
  "metadata": {
    "colab": {
      "provenance": [],
      "authorship_tag": "ABX9TyO1WyUx5Mz4Fjkv/1JuXPvo",
      "include_colab_link": true
    },
    "kernelspec": {
      "name": "python3",
      "display_name": "Python 3"
    },
    "language_info": {
      "name": "python"
    }
  },
  "cells": [
    {
      "cell_type": "markdown",
      "metadata": {
        "id": "view-in-github",
        "colab_type": "text"
      },
      "source": [
        "<a href=\"https://colab.research.google.com/github/DengChiung/kmuh20240106/blob/main/association_rules0106_ipynb.ipynb\" target=\"_parent\"><img src=\"https://colab.research.google.com/assets/colab-badge.svg\" alt=\"Open In Colab\"/></a>"
      ]
    },
    {
      "cell_type": "code",
      "execution_count": null,
      "metadata": {
        "id": "V5AtSrg-3u1s"
      },
      "outputs": [],
      "source": [
        "import pandas as pd\n",
        "import numpy as np\n",
        "from mlxtend.frequent_patterns import apriori, association_rules\n",
        "import matplotlib.pyplot as plt\n",
        "from mlxtend.preprocessing import TransactionEncoder"
      ]
    },
    {
      "cell_type": "code",
      "source": [
        "store_data = pd.read_excel('20240103手術術式最終資料.xlsx',sheet_name='合併表單',dtype=str)\n",
        "store_data['病歷號']=store_data['病歷號'].str.zfill(8)\n",
        "store_data['科別']=store_data['科別'].str.zfill(4)\n",
        "store_data['主診斷']=store_data['主診斷'].str.strip()\n",
        "store_data['手術批價碼']=store_data['手術批價碼'].str.strip()\n",
        "store_data['手術批價碼2']=store_data['手術批價碼2'].str.strip()\n",
        "store_data['手術批價碼3']=store_data['手術批價碼3'].str.strip()\n",
        "store_data['手術批價碼4']=store_data['手術批價碼4'].str.strip()\n",
        "store_data['手術批價碼5']=store_data['手術批價碼5'].str.strip()\n",
        "store_data = store_data.rename(columns={'病歷號':'chart_no','科別':'dept_no','主診斷':'diagnosis','年齡':'age',\n",
        "                        '手術批價碼':'opcode1','手術批價碼2':'opcode2','手術批價碼3':'opcode3',\n",
        "                        '手術批價碼4':'opcode4','手術批價碼5':'opcode5'})\n",
        "store_data=store_data[store_data['dept_no']=='0800']#\n",
        "store_data['diagnosis4']=store_data['diagnosis'].str[:4]\n",
        "store_data=store_data[['diagnosis','opcode1','opcode2','opcode3','opcode4','opcode5']]\n",
        "store_data.head()\n",
        "store_data = store_data.reset_index()"
      ],
      "metadata": {
        "colab": {
          "base_uri": "https://localhost:8080/"
        },
        "id": "_kagjXK1374W",
        "outputId": "831192e4-bf60-40f2-a33f-da85063ac4e7"
      },
      "execution_count": null,
      "outputs": [
        {
          "output_type": "stream",
          "name": "stderr",
          "text": [
            "/usr/local/lib/python3.10/dist-packages/ipykernel/ipkernel.py:283: DeprecationWarning: `should_run_async` will not call `transform_cell` automatically in the future. Please pass the result to `transformed_cell` argument and any exception that happen during thetransform in `preprocessing_exc_tuple` in IPython 7.17 and above.\n",
            "  and should_run_async(code)\n"
          ]
        }
      ]
    },
    {
      "cell_type": "code",
      "source": [
        "unique_li = [store_data[col].unique().tolist() for col in store_data.columns]\n",
        "items = set([item for item_li in unique_li for item in item_li if item is not np.NaN ])"
      ],
      "metadata": {
        "colab": {
          "base_uri": "https://localhost:8080/"
        },
        "id": "e9cPKpZa4Rk2",
        "outputId": "262a93c9-ec22-4d53-c303-b04cb0050754"
      },
      "execution_count": null,
      "outputs": [
        {
          "output_type": "stream",
          "name": "stderr",
          "text": [
            "/usr/local/lib/python3.10/dist-packages/ipykernel/ipkernel.py:283: DeprecationWarning: `should_run_async` will not call `transform_cell` automatically in the future. Please pass the result to `transformed_cell` argument and any exception that happen during thetransform in `preprocessing_exc_tuple` in IPython 7.17 and above.\n",
            "  and should_run_async(code)\n"
          ]
        }
      ]
    },
    {
      "cell_type": "code",
      "source": [
        "for i in range(0,len(store_data)):\n",
        "  tmpS=store_data['diagnosis'][i]\n",
        "  if pd.isnull(store_data['opcode1'][i]):\n",
        "      tmpS=tmpS\n",
        "  else: tmpS=tmpS+','+store_data['opcode1'][i]\n",
        "  if pd.isnull(store_data['opcode2'][i]):\n",
        "      tmpS=tmpS\n",
        "  else: tmpS=tmpS+','+store_data['opcode2'][i]\n",
        "  if pd.isnull(store_data['opcode3'][i]):\n",
        "      tmpS=tmpS\n",
        "  else: tmpS=tmpS+','+store_data['opcode3'][i]\n",
        "  if pd.isnull(store_data['opcode4'][i]):\n",
        "      tmpS=tmpS\n",
        "  else: tmpS=tmpS+','+store_data['opcode4'][i]\n",
        "  if pd.isnull(store_data['opcode5'][i]):\n",
        "      tmpS=tmpS\n",
        "  else: tmpS=tmpS+','+store_data['opcode5'][i]\n",
        "  store_data.loc[i,'opcodeall'] = tmpS\n",
        "\n",
        "data = list(store_data[\"opcodeall\"].apply(lambda x:x.split(\",\") ))\n"
      ],
      "metadata": {
        "colab": {
          "base_uri": "https://localhost:8080/"
        },
        "id": "hxWbGEct4VOO",
        "outputId": "f88888c1-d29f-499f-fe8e-6399d84468a4"
      },
      "execution_count": null,
      "outputs": [
        {
          "output_type": "stream",
          "name": "stderr",
          "text": [
            "/usr/local/lib/python3.10/dist-packages/ipykernel/ipkernel.py:283: DeprecationWarning: `should_run_async` will not call `transform_cell` automatically in the future. Please pass the result to `transformed_cell` argument and any exception that happen during thetransform in `preprocessing_exc_tuple` in IPython 7.17 and above.\n",
            "  and should_run_async(code)\n"
          ]
        }
      ]
    },
    {
      "cell_type": "code",
      "source": [
        "from mlxtend.preprocessing import TransactionEncoder\n",
        "a = TransactionEncoder()\n",
        "a_data = a.fit(data).transform(data)\n",
        "df = pd.DataFrame(a_data,columns=a.columns_)\n",
        "df = df.replace(False,0)\n",
        "df = df.replace(True,1)"
      ],
      "metadata": {
        "colab": {
          "base_uri": "https://localhost:8080/"
        },
        "id": "bqER8_PF43QK",
        "outputId": "482f354d-ea53-49bc-b8a8-c1f8c54f2019"
      },
      "execution_count": null,
      "outputs": [
        {
          "output_type": "stream",
          "name": "stderr",
          "text": [
            "/usr/local/lib/python3.10/dist-packages/ipykernel/ipkernel.py:283: DeprecationWarning: `should_run_async` will not call `transform_cell` automatically in the future. Please pass the result to `transformed_cell` argument and any exception that happen during thetransform in `preprocessing_exc_tuple` in IPython 7.17 and above.\n",
            "  and should_run_async(code)\n"
          ]
        }
      ]
    },
    {
      "cell_type": "code",
      "source": [
        "dfa = apriori(df, min_support = 0.008, use_colnames = True, verbose = 1)"
      ],
      "metadata": {
        "colab": {
          "base_uri": "https://localhost:8080/"
        },
        "id": "vdhDOoR65bw8",
        "outputId": "98aedef9-0275-4051-cc70-9144b48605e7"
      },
      "execution_count": null,
      "outputs": [
        {
          "output_type": "stream",
          "name": "stdout",
          "text": [
            "\rProcessing 2970 combinations | Sampling itemset size 2\rProcessing 660 combinations | Sampling itemset size 3\n"
          ]
        },
        {
          "output_type": "stream",
          "name": "stderr",
          "text": [
            "/usr/local/lib/python3.10/dist-packages/ipykernel/ipkernel.py:283: DeprecationWarning: `should_run_async` will not call `transform_cell` automatically in the future. Please pass the result to `transformed_cell` argument and any exception that happen during thetransform in `preprocessing_exc_tuple` in IPython 7.17 and above.\n",
            "  and should_run_async(code)\n",
            "/usr/local/lib/python3.10/dist-packages/mlxtend/frequent_patterns/fpcommon.py:110: DeprecationWarning: DataFrames with non-bool types result in worse computationalperformance and their support might be discontinued in the future.Please use a DataFrame with bool type\n",
            "  warnings.warn(\n"
          ]
        }
      ]
    },
    {
      "cell_type": "code",
      "source": [
        "rules = association_rules(dfa, metric=\"confidence\", min_threshold=0.2).sort_values(by = ['lift', 'confidence', 'support'], ascending =False)\n",
        "print('rules.shape :', rules.shape)\n",
        "print(rules.head(10))"
      ],
      "metadata": {
        "colab": {
          "base_uri": "https://localhost:8080/"
        },
        "id": "ZP2Ujpuw5cKS",
        "outputId": "0f66eb9e-4ab1-4f91-f852-83478252c5e4"
      },
      "execution_count": null,
      "outputs": [
        {
          "output_type": "stream",
          "name": "stdout",
          "text": [
            "rules.shape : (42, 10)\n",
            "   antecedents consequents  antecedent support  consequent support   support  \\\n",
            "6       (N281)    (76029B)            0.008114            0.008114  0.008114   \n",
            "7     (76029B)      (N281)            0.008114            0.008114  0.008114   \n",
            "32      (N433)    (78407C)            0.010142            0.012170  0.010142   \n",
            "35    (79204C)      (I861)            0.010142            0.012170  0.010142   \n",
            "33    (78407C)      (N433)            0.012170            0.010142  0.010142   \n",
            "34      (I861)    (79204C)            0.012170            0.010142  0.010142   \n",
            "29    (78031C)     (N3011)            0.040568            0.018256  0.018256   \n",
            "27     (N3010)    (78031C)            0.020284            0.040568  0.020284   \n",
            "28     (N3011)    (78031C)            0.018256            0.040568  0.018256   \n",
            "26    (78031C)     (N3010)            0.040568            0.020284  0.020284   \n",
            "\n",
            "    confidence        lift  leverage  conviction  zhangs_metric  \n",
            "6     1.000000  123.250000  0.008048         inf       1.000000  \n",
            "7     1.000000  123.250000  0.008048         inf       1.000000  \n",
            "32    1.000000   82.166667  0.010019         inf       0.997951  \n",
            "35    1.000000   82.166667  0.010019         inf       0.997951  \n",
            "33    0.833333   82.166667  0.010019    5.939148       1.000000  \n",
            "34    0.833333   82.166667  0.010019    5.939148       1.000000  \n",
            "29    0.450000   24.650000  0.017515    1.784990       1.000000  \n",
            "27    1.000000   24.650000  0.019461         inf       0.979296  \n",
            "28    1.000000   24.650000  0.017515         inf       0.977273  \n",
            "26    0.500000   24.650000  0.019461    1.959432       1.000000  \n"
          ]
        },
        {
          "output_type": "stream",
          "name": "stderr",
          "text": [
            "/usr/local/lib/python3.10/dist-packages/ipykernel/ipkernel.py:283: DeprecationWarning: `should_run_async` will not call `transform_cell` automatically in the future. Please pass the result to `transformed_cell` argument and any exception that happen during thetransform in `preprocessing_exc_tuple` in IPython 7.17 and above.\n",
            "  and should_run_async(code)\n"
          ]
        }
      ]
    },
    {
      "cell_type": "code",
      "source": [
        "tmparray = rules[rules['antecedents']==frozenset({'N281'})].sort_values(by = 'lift', ascending = False)\n",
        "print(tmparray)"
      ],
      "metadata": {
        "colab": {
          "base_uri": "https://localhost:8080/"
        },
        "id": "TO4hLhhO5mPq",
        "outputId": "328c467d-323d-40e8-da0c-91630558ed85"
      },
      "execution_count": null,
      "outputs": [
        {
          "output_type": "stream",
          "name": "stdout",
          "text": [
            "  antecedents consequents  antecedent support  consequent support   support  \\\n",
            "6      (N281)    (76029B)            0.008114            0.008114  0.008114   \n",
            "\n",
            "   confidence    lift  leverage  conviction  zhangs_metric  \n",
            "6         1.0  123.25  0.008048         inf            1.0  \n"
          ]
        },
        {
          "output_type": "stream",
          "name": "stderr",
          "text": [
            "/usr/local/lib/python3.10/dist-packages/ipykernel/ipkernel.py:283: DeprecationWarning: `should_run_async` will not call `transform_cell` automatically in the future. Please pass the result to `transformed_cell` argument and any exception that happen during thetransform in `preprocessing_exc_tuple` in IPython 7.17 and above.\n",
            "  and should_run_async(code)\n"
          ]
        }
      ]
    }
  ]
}